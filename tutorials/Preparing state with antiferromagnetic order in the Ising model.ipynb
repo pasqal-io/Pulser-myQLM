{
 "cells": [
  {
   "cell_type": "markdown",
   "metadata": {},
   "source": [
    "# Preparing a state with antiferromagnetic order in the Ising model\n",
    "\n",
    "This notebook illustrates how to use Pulser to build a sequence for studying an antiferromagnetic state in an Ising-like model. It is based on [10.1103/PhysRevX.8.021070](https://journals.aps.org/prx/abstract/10.1103/PhysRevX.8.021070), where arrays of Rydberg atoms were programmed and whose correlations were studied.\n",
    "\n",
    "We begin by importing some basic modules:"
   ]
  },
  {
   "cell_type": "code",
   "execution_count": null,
   "metadata": {},
   "outputs": [],
   "source": [
    "import numpy as np\n",
    "import matplotlib.pyplot as plt\n",
    "\n",
    "from pulser import Pulse, Sequence\n",
    "from pulser.devices import Device\n",
    "from pulser.waveforms import RampWaveform\n",
    "\n",
    "from pulser_myqlm import FresnelQPU, IsingAQPU"
   ]
  },
  {
   "cell_type": "markdown",
   "metadata": {},
   "source": [
    "Working with the Pulser `Device` associated with the QPU:"
   ]
  },
  {
   "cell_type": "code",
   "execution_count": null,
   "metadata": {},
   "outputs": [],
   "source": [
    "FRESNEL_QPU = FresnelQPU(None)  # mimics QPU with pulser-simulation as backend\n",
    "FRESNEL_QPU_SPECS = FRESNEL_QPU.get_specs()\n",
    "FRESNEL_DEVICE = Device.from_abstract_repr(\n",
    "    FRESNEL_QPU_SPECS.description\n",
    ")  # the Device implemented by the QPU"
   ]
  },
  {
   "cell_type": "markdown",
   "metadata": {},
   "source": [
    "Define if simulations should be performed locally (by setting LOCAL_SIMULATIONS to True) or on a remote emulator (AnalogQPU, by setting LOCAL_SIMULATIONS to False):"
   ]
  },
  {
   "cell_type": "code",
   "execution_count": null,
   "metadata": {},
   "outputs": [],
   "source": [
    "# If LOCAL_SIMULATIONS is True: Uses IsingAPQU (pulser-simulation) locally\n",
    "# Otherwise: Uses AnalogQPU (if it can be imported)\n",
    "LOCAL_SIMULATIONS = False\n",
    "QPU_SIMULATION = True\n",
    "\n",
    "# Checking AnalogQPU can be imported\n",
    "if not LOCAL_SIMULATIONS:\n",
    "    if QPU_SIMULATION:\n",
    "        try:\n",
    "            from qlmaas.qpus import PasqalQPU\n",
    "        except ImportError as e:\n",
    "            raise ImportError(\n",
    "                \"Can't import PasqalQPU: simulations can only be performed locally using IsingAQPU (uses pulser-simulation).\"\n",
    "            ) from e\n",
    "    else:\n",
    "        try:\n",
    "            from qlmaas.qpus import AnalogQPU\n",
    "        except ImportError as e:\n",
    "            raise ImportError(\n",
    "                \"Can't import AnalogQPU: simulations can only be performed locally using IsingAQPU (uses pulser-simulation).\"\n",
    "            ) from e"
   ]
  },
  {
   "cell_type": "markdown",
   "metadata": {},
   "source": [
    "Simulation parameters define number of shots and whether or not modulation of the pulses should be taken into account:"
   ]
  },
  {
   "cell_type": "code",
   "execution_count": null,
   "metadata": {},
   "outputs": [],
   "source": [
    "NBSHOTS = 0  # must be 0 for AnalogQPU\n",
    "# If 0 and local simulations, default internally to 2000\n",
    "MODULATION = False  # Whether or not to use Modulated Sequence in the simulation\n",
    "\n",
    "if not LOCAL_SIMULATIONS and NBSHOTS > 0:\n",
    "    raise ValueError(\"Simulation with AnalogQPU: number of shots must be 0.\")"
   ]
  },
  {
   "cell_type": "markdown",
   "metadata": {},
   "source": [
    "## Waveforms \n",
    "\n",
    "We are realizing the following program\n",
    "\n",
    "<center>\n",
    "<img src=\"attachment:AF_Ising_program.png\" alt=\"AF Pulse Sequence\" width=\"300\">\n",
    "</center>"
   ]
  },
  {
   "cell_type": "markdown",
   "metadata": {},
   "source": [
    "The pulse and the register are defined by the following parameters:"
   ]
  },
  {
   "cell_type": "code",
   "execution_count": null,
   "metadata": {},
   "outputs": [],
   "source": [
    "reg_layout = FRESNEL_DEVICE.calibrated_register_layouts[\n",
    "    \"TriangularLatticeLayout(61, 5.0µm)\"\n",
    "]\n",
    "reg_layout.draw()"
   ]
  },
  {
   "cell_type": "code",
   "execution_count": null,
   "metadata": {},
   "outputs": [],
   "source": [
    "# Parameters in rad/µs and ns\n",
    "Omega_max = 2 * FRESNEL_DEVICE.rabi_from_blockade(10.0)  # Spacing between atoms\n",
    "print(\"Max amplitude is: \", Omega_max, \"rad/µs\")\n",
    "U = Omega_max / 2.0\n",
    "\n",
    "delta_0 = -6 * U\n",
    "delta_f = 2 * U\n",
    "\n",
    "t_rise = 2500\n",
    "t_fall = 5000\n",
    "t_sweep = (delta_f - delta_0) / (2 * np.pi) * 1000\n",
    "\n",
    "R_interatomic = FRESNEL_DEVICE.rydberg_blockade_radius(U)\n",
    "\n",
    "reg = reg_layout.define_register(22, 40, 48, 38, 20, 12)\n",
    "N_atoms = len(reg.qubits)\n",
    "print(\"Contains \", N_atoms, \"atoms\")\n",
    "print(f\"Interatomic Radius is: {R_interatomic}µm.\")\n",
    "reg.draw(blockade_radius=R_interatomic, draw_half_radius=True)"
   ]
  },
  {
   "cell_type": "markdown",
   "metadata": {},
   "source": [
    "## Creating my sequence"
   ]
  },
  {
   "cell_type": "markdown",
   "metadata": {},
   "source": [
    "We compose our pulse with the following objects from Pulser:"
   ]
  },
  {
   "cell_type": "code",
   "execution_count": null,
   "metadata": {},
   "outputs": [],
   "source": [
    "rise = Pulse.ConstantDetuning(RampWaveform(t_rise, 0.0, Omega_max), delta_0, 0.0)\n",
    "sweep = Pulse.ConstantAmplitude(Omega_max, RampWaveform(t_sweep, delta_0, delta_f), 0.0)\n",
    "fall = Pulse.ConstantDetuning(RampWaveform(t_fall, Omega_max, 0.0), delta_f, 0.0)"
   ]
  },
  {
   "cell_type": "code",
   "execution_count": null,
   "metadata": {},
   "outputs": [],
   "source": [
    "seq = Sequence(reg, FRESNEL_DEVICE)\n",
    "seq.declare_channel(\"ising\", \"rydberg_global\")\n",
    "\n",
    "seq.add(rise, \"ising\")\n",
    "seq.add(sweep, \"ising\")\n",
    "seq.add(fall, \"ising\")\n",
    "\n",
    "seq.draw()"
   ]
  },
  {
   "cell_type": "markdown",
   "metadata": {},
   "source": [
    "## Phase Diagram"
   ]
  },
  {
   "cell_type": "markdown",
   "metadata": {},
   "source": [
    "The pulse sequence travels though the following path in the phase diagram of the system (the shaded area represents the antiferromagnetic phase):"
   ]
  },
  {
   "cell_type": "code",
   "execution_count": null,
   "metadata": {},
   "outputs": [],
   "source": [
    "delta = []\n",
    "omega = []\n",
    "for x in seq._schedule[\"ising\"]:\n",
    "    if isinstance(x.type, Pulse):\n",
    "        omega += list(x.type.amplitude.samples / U)\n",
    "        delta += list(x.type.detuning.samples / U)\n",
    "\n",
    "fig, ax = plt.subplots()\n",
    "ax.grid(True, which=\"both\")\n",
    "\n",
    "ax.set_ylabel(r\"$\\hbar\\delta(t)/U$\", fontsize=16)\n",
    "ax.set_xlabel(r\"$\\hbar\\Omega(t)/U$\", fontsize=16)\n",
    "ax.set_xlim(0, 3)\n",
    "ax.axhline(y=0, color=\"k\")\n",
    "ax.axvline(x=0, color=\"k\")\n",
    "\n",
    "y = np.arange(0.0, 6, 0.01)\n",
    "x = 1.522 * (1 - 0.25 * (y - 2) ** 2)\n",
    "ax.fill_between(x, y, alpha=0.4)\n",
    "\n",
    "ax.plot(omega, delta, \"red\", lw=2)\n",
    "plt.show()"
   ]
  },
  {
   "cell_type": "markdown",
   "metadata": {},
   "source": [
    "## Simulation: Spin-Spin Correlation Function"
   ]
  },
  {
   "cell_type": "markdown",
   "metadata": {},
   "source": [
    "We shall now evaluate the quality of the obtained state by calculating the *spin-spin correlation function*, defined as:\n",
    "\n",
    "\n",
    "$$g^c(k,l)= \\frac{1}{N_{k,l}}\\sum_{(i,j) = (kR,lR)} \\left[ \\langle n_i n_j \\rangle - \\langle n_i \\rangle \\langle n_j \\rangle \\right]$$\n",
    "\n",
    "where the $c$ indicates that we are calculating the *connected* part, and where the sum is over all pairs $(i,j)$ whose distance is ${\\bf r}_i - {\\bf r}_j = (k R,l R)$ in the atomic array coordinate (both $k$ and $l$ are positive or negative integers within the size of the array).\n",
    "\n",
    "We run a simulation of the sequence:"
   ]
  },
  {
   "cell_type": "code",
   "execution_count": null,
   "metadata": {},
   "outputs": [],
   "source": [
    "job = IsingAQPU.convert_sequence_to_job(seq, nbshots=NBSHOTS, modulation=MODULATION)"
   ]
  },
  {
   "cell_type": "code",
   "execution_count": null,
   "metadata": {},
   "outputs": [],
   "source": [
    "MyQLMPulserSimBackend = FresnelQPU(None)\n",
    "MYQLM_BACKEND = (\n",
    "    MyQLMPulserSimBackend\n",
    "    if LOCAL_SIMULATIONS\n",
    "    else (PasqalQPU() if QPU_SIMULATION else AnalogQPU())\n",
    ")"
   ]
  },
  {
   "cell_type": "code",
   "execution_count": null,
   "metadata": {},
   "outputs": [],
   "source": [
    "results = MYQLM_BACKEND.submit(job)"
   ]
  },
  {
   "cell_type": "markdown",
   "metadata": {},
   "source": [
    "Sample from final state using `sample_final_state()` method:"
   ]
  },
  {
   "cell_type": "code",
   "execution_count": null,
   "metadata": {},
   "outputs": [],
   "source": [
    "def get_samples_from_result(result):\n",
    "    \"\"\"Converting the MyQLM Results into Pulser Samples\"\"\"\n",
    "    samples = {}\n",
    "    for sample in result.raw_data:\n",
    "        if len(sample.state.bitstring) > N_atoms:\n",
    "            raise ValueError(\n",
    "                f\"State {sample.state} is incompatible with number of qubits\"\n",
    "                f\" declared {N_atoms}.\"\n",
    "            )\n",
    "        counts = sample.probability\n",
    "        samples[sample.state.bitstring.zfill(N_atoms)] = counts\n",
    "    return samples"
   ]
  },
  {
   "cell_type": "code",
   "execution_count": null,
   "metadata": {},
   "outputs": [],
   "source": [
    "count = get_samples_from_result(results)\n",
    "\n",
    "most_freq = {k: v for k, v in count.items() if v > 10 / 1000}\n",
    "plt.bar(list(most_freq.keys()), list(most_freq.values()))\n",
    "plt.xticks(rotation=\"vertical\")\n",
    "plt.show()"
   ]
  },
  {
   "cell_type": "code",
   "execution_count": null,
   "metadata": {},
   "outputs": [],
   "source": [
    "for sample in results:\n",
    "    if sample.probability > 0.01:\n",
    "        print(sample.state, sample.probability)"
   ]
  },
  {
   "cell_type": "code",
   "execution_count": null,
   "metadata": {},
   "outputs": [],
   "source": []
  }
 ],
 "metadata": {
  "kernelspec": {
   "display_name": "pulser-myqlm-add-connection",
   "language": "python",
   "name": "pulser-myqlm-add-connection"
  },
  "language_info": {
   "codemirror_mode": {
    "name": "ipython",
    "version": 3
   },
   "file_extension": ".py",
   "mimetype": "text/x-python",
   "name": "python",
   "nbconvert_exporter": "python",
   "pygments_lexer": "ipython3",
   "version": "3.10.12"
  }
 },
 "nbformat": 4,
 "nbformat_minor": 4
}
