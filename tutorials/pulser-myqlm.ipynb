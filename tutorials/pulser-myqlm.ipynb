{
 "cells": [
  {
   "attachments": {},
   "cell_type": "markdown",
   "metadata": {},
   "source": [
    "# Converting a Pulser sequence into a Job"
   ]
  },
  {
   "cell_type": "code",
   "execution_count": null,
   "metadata": {},
   "outputs": [],
   "source": [
    "import numpy as np\n",
    "from qat.core import Variable"
   ]
  },
  {
   "attachments": {},
   "cell_type": "markdown",
   "metadata": {},
   "source": [
    "Simulation on Pasqal hardware can be performed using [Pulser](https://pulser.readthedocs.io/). This notebook presents how to convert a sequence defined in Pulser into a `Schedule` or a `Job` that can be executed on MyQLM. "
   ]
  },
  {
   "attachments": {},
   "cell_type": "markdown",
   "metadata": {},
   "source": [
    "## Defining Pulser's AQPU"
   ]
  },
  {
   "cell_type": "code",
   "execution_count": null,
   "metadata": {},
   "outputs": [],
   "source": [
    "from pulser import Pulse, Sequence, Register\n",
    "from pulser.waveforms import CustomWaveform\n",
    "from pulser.devices import MockDevice\n",
    "from pulser_myqlm import IsingAQPU, Pheaviside, PSchedule\n",
    "from pulser_myqlm.myqlmtools import are_equivalent_schedules"
   ]
  },
  {
   "attachments": {},
   "cell_type": "markdown",
   "metadata": {},
   "source": [
    "On Pulser, any simulation starts by defining a `Device` and a `Register`. Any `PulserAQPU` should be defined by these two objects, or by a sequence directly.\n",
    "\n",
    "`IsingAQPU` describes a specific AQPU on which only pulses applied on a `Rydberg.Global` channel can be run. This generates Ising Hamiltonians defined by the `Register` and the pulses sent (see next section).\n",
    "\n",
    "Let's start by creating a device having a `Rydberg.Global` channel, and a square register of 2x2 atoms spaced by $4\\mu m$. The `MockDevice` defines a device for simulations on which all channels are implemented.\n",
    "\n"
   ]
  },
  {
   "cell_type": "code",
   "execution_count": null,
   "metadata": {},
   "outputs": [],
   "source": [
    "device = MockDevice\n",
    "register = Register.square(2, 4, None)\n",
    "qpu = IsingAQPU(device, register)"
   ]
  },
  {
   "cell_type": "code",
   "execution_count": null,
   "metadata": {},
   "outputs": [],
   "source": [
    "# You can see the register used by the qpu\n",
    "qpu.register.draw()"
   ]
  },
  {
   "cell_type": "code",
   "execution_count": null,
   "metadata": {},
   "outputs": [],
   "source": [
    "# Check qpu properties\n",
    "print(\n",
    "    \"Distances (in um):\\n\", qpu.distances, \"\\n\"\n",
    ")  # symetric matrix, for each qubit two qubits are at 4um distance and one at 4 * sqrt(2) um\n",
    "print(\"Interactions (in rad/us):\\n\", qpu.c6_interactions)  # symetric matrix, C_6/R^6"
   ]
  },
  {
   "attachments": {},
   "cell_type": "markdown",
   "metadata": {},
   "source": [
    "## Defining an Ising Hamiltonian on MyQLM"
   ]
  },
  {
   "attachments": {},
   "cell_type": "markdown",
   "metadata": {},
   "source": [
    "On Pulser we can solve problems of shape \n",
    "$$ H = \\hbar\\sum_i \\frac{\\Omega(t)}{2}(\\cos(\\phi) \\sigma_i^x - \\sin(\\phi) \\sigma_i^y) - \\delta(t)n_i + \\frac{1}{2}\\sum_{i\\neq j}U_{ij}n_i n_j$$\n",
    "with $\\sigma_i^x$ the Pauli $X$ operator applied on qubit $i$ and $n_i = \\frac{1-\\sigma_i^z}{2}$ with $\\sigma_i^z$ the Pauli $Z$ operator applied on qubit $i$\n",
    "\n",
    "Let's start by defining the parameters:"
   ]
  },
  {
   "cell_type": "code",
   "execution_count": null,
   "metadata": {},
   "outputs": [],
   "source": [
    "t_variable = Variable(\"t\")  # in ns\n",
    "u_variable = Variable(\"u\")  # parameter\n",
    "omega_t = t_variable  # in rad/us\n",
    "delta_t = 1 - t_variable + u_variable  # in rad/us"
   ]
  },
  {
   "attachments": {},
   "cell_type": "markdown",
   "metadata": {},
   "source": [
    "We can then compute the Ising Hamiltonians associated to pulses defined by $\\Omega$, $\\delta$, $\\phi$ using `IsingAQPU.hamiltonian`."
   ]
  },
  {
   "attachments": {},
   "cell_type": "markdown",
   "metadata": {},
   "source": [
    "- Here is an Hamiltonian associated with a pulse of constant amplitude, zero detuning and phase.\n",
    "It is equivalent to apply a X gate on each qubit, and a ZZ gate whose coefficient is defined from the C6 interactions."
   ]
  },
  {
   "cell_type": "code",
   "execution_count": null,
   "metadata": {},
   "outputs": [],
   "source": [
    "t1 = 20  # in ns\n",
    "H1 = qpu.hamiltonian(1, 0, 0)\n",
    "print(H1)"
   ]
  },
  {
   "attachments": {},
   "cell_type": "markdown",
   "metadata": {},
   "source": [
    "- If now the phase is equal to $\\pi / 2$, we no longer add a X gate on each qubit but a Y gate."
   ]
  },
  {
   "cell_type": "code",
   "execution_count": null,
   "metadata": {},
   "outputs": [],
   "source": [
    "t2 = 20  # in ns\n",
    "H2 = qpu.hamiltonian(1, 0, np.pi / 2)\n",
    "print(H2)"
   ]
  },
  {
   "attachments": {},
   "cell_type": "markdown",
   "metadata": {},
   "source": [
    "- It is also possible to define time-dependent pulses, varying in amplitude and detuning. See that the coefficient in front the ZZ operators are unchanged."
   ]
  },
  {
   "cell_type": "code",
   "execution_count": null,
   "metadata": {},
   "outputs": [],
   "source": [
    "t0 = 16  # in ns\n",
    "H0 = qpu.hamiltonian(omega_t, delta_t, 0)\n",
    "print(H0)"
   ]
  },
  {
   "attachments": {},
   "cell_type": "markdown",
   "metadata": {},
   "source": [
    "The Hamiltonian is implemented as a `Schedule` object. You also have to define the duration of the evolution. A `Schedule` can be implemented on the `IsingAQPU` if the coefficient in front of the ZZ operators match the C6 interactions. Therefore, when using hamiltonians defined with `IsingAQPU`, the sum of the drive coefficients should be equal to 1 along the duration of the `Schedule`.\n",
    "\n",
    "On Pulser, the duration of Pulses are defined as integers in nanoseconds. To avoid edge effect induced by `qat.core.heaviside`, we defined `qat.core.Pheaviside` that is equal to 0 if the argument is equal to the final bound.\n",
    "\n",
    "`PSchedule` is a sub-class of `Schedule` that performs temporal composition, merging and time shifting of schedules using `Pheaviside` instead of `heaviside`. "
   ]
  },
  {
   "cell_type": "code",
   "execution_count": null,
   "metadata": {},
   "outputs": [],
   "source": [
    "Pschedule0 = PSchedule(drive=[(1, H0)], tmax=t0)\n",
    "Pschedule1 = PSchedule(drive=[(1, H1)], tmax=t1)\n",
    "Pschedule2 = PSchedule(drive=[(1, H2)], tmax=t2)"
   ]
  },
  {
   "cell_type": "code",
   "execution_count": null,
   "metadata": {},
   "outputs": [],
   "source": [
    "Pschedule = Pschedule0 | Pschedule1 | Pschedule2\n",
    "print(Pschedule)"
   ]
  },
  {
   "attachments": {},
   "cell_type": "markdown",
   "metadata": {},
   "source": [
    "Here is an equivalent definition of the former `PSchedule`, using `Pheaviside` explicitly instead of temporal compositions."
   ]
  },
  {
   "cell_type": "code",
   "execution_count": null,
   "metadata": {},
   "outputs": [],
   "source": [
    "Pschedule_sum = PSchedule(\n",
    "    drive=[\n",
    "        [Pheaviside(t_variable, 0, t0), H0],\n",
    "        [Pheaviside(t_variable, t0, t1 + t0), H1],\n",
    "        [Pheaviside(t_variable, t1 + t0, t1 + t0 + t2), H2],\n",
    "    ],\n",
    "    tmax=t1 + t0 + t2,\n",
    ")\n",
    "print(Pschedule_sum)"
   ]
  },
  {
   "cell_type": "code",
   "execution_count": null,
   "metadata": {},
   "outputs": [],
   "source": [
    "are_equivalent_schedules(Pschedule, Pschedule_sum)"
   ]
  },
  {
   "attachments": {},
   "cell_type": "markdown",
   "metadata": {},
   "source": [
    "This `PSchedule` could have also been built from a Pulser `Sequence` by adding the pulses described above."
   ]
  },
  {
   "cell_type": "code",
   "execution_count": null,
   "metadata": {},
   "outputs": [],
   "source": [
    "seq = Sequence(register, device)\n",
    "seq.declare_channel(\"ryd_glob\", \"rydberg_global\")\n",
    "seq.add(\n",
    "    Pulse(\n",
    "        CustomWaveform([omega_t(t=ti) for ti in range(t0)]),\n",
    "        CustomWaveform(\n",
    "            [delta_t(t=ti, u=0) for ti in range(t0)]\n",
    "        ),  # no parametrized sequence for the moment\n",
    "        0,\n",
    "    ),\n",
    "    \"ryd_glob\",\n",
    ")\n",
    "seq.add(Pulse.ConstantPulse(t1, 1, 0, 0), \"ryd_glob\")\n",
    "seq.add(Pulse.ConstantPulse(t2, 1, 0, np.pi / 2), \"ryd_glob\")"
   ]
  },
  {
   "cell_type": "code",
   "execution_count": null,
   "metadata": {},
   "outputs": [],
   "source": [
    "Pschedule_from_seq = IsingAQPU.convert_sequence_to_schedule(seq)"
   ]
  },
  {
   "cell_type": "code",
   "execution_count": null,
   "metadata": {},
   "outputs": [],
   "source": [
    "are_equivalent_schedules(Pschedule_from_seq, Pschedule(u=0))"
   ]
  }
 ],
 "metadata": {
  "kernelspec": {
   "display_name": "pulsermyqlmenv",
   "language": "python",
   "name": "python3"
  },
  "language_info": {
   "codemirror_mode": {
    "name": "ipython",
    "version": 3
   },
   "file_extension": ".py",
   "mimetype": "text/x-python",
   "name": "python",
   "nbconvert_exporter": "python",
   "pygments_lexer": "ipython3",
   "version": "3.10.9"
  },
  "orig_nbformat": 4,
  "vscode": {
   "interpreter": {
    "hash": "4cea023f9ae53caf1ed3c81825d130d743f95ca16a4acade07c39ab837f88560"
   }
  }
 },
 "nbformat": 4,
 "nbformat_minor": 2
}
