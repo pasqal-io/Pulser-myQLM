{
 "cells": [
  {
   "attachments": {},
   "cell_type": "markdown",
   "metadata": {},
   "source": [
    "# QAOA and QAA to solve a QUBO problem"
   ]
  },
  {
   "cell_type": "code",
   "execution_count": null,
   "metadata": {},
   "outputs": [],
   "source": [
    "import numpy as np\n",
    "import matplotlib.pyplot as plt\n",
    "from pulser import Pulse, Sequence, Register\n",
    "from pulser.waveforms import InterpolatedWaveform\n",
    "from scipy.optimize import minimize\n",
    "from scipy.spatial.distance import pdist, squareform\n",
    "from qat.core import Result\n",
    "\n",
    "from pulser_myqlm import FresnelQPU, IsingAQPU"
   ]
  },
  {
   "cell_type": "markdown",
   "metadata": {},
   "source": [
    "Working with the Pulser `Device` associated with the QPU:"
   ]
  },
  {
   "cell_type": "code",
   "execution_count": null,
   "metadata": {},
   "outputs": [],
   "source": [
    "FRESNEL_QPU = FresnelQPU(None)  # mimics QPU with pulser-simulation as backend\n",
    "FRESNEL_DEVICE = FRESNEL_QPU.device  # the Device implemented by the QPU"
   ]
  },
  {
   "cell_type": "markdown",
   "metadata": {},
   "source": [
    "Define if simulations should be performed locally (by setting LOCAL_SIMULATIONS to True) or on a remote emulator (AnalogQPU, by setting LOCAL_SIMULATIONS to False):"
   ]
  },
  {
   "cell_type": "code",
   "execution_count": null,
   "metadata": {},
   "outputs": [],
   "source": [
    "# If LOCAL_SIMULATIONS is True: Uses IsingAPQU (pulser-simulation) locally\n",
    "# Otherwise: Uses AnalogQPU (if it can be imported)\n",
    "LOCAL_SIMULATIONS = True\n",
    "\n",
    "\n",
    "# Checking AnalogQPU can be imported\n",
    "if not LOCAL_SIMULATIONS:\n",
    "    try:\n",
    "        from qlmaas.qpus import AnalogQPU\n",
    "    except ImportError as e:\n",
    "        raise ImportError(\n",
    "            \"Can't import AnalogQPU: simulations can only be performed locally using IsingAQPU (uses pulser-simulation).\"\n",
    "        ) from e"
   ]
  },
  {
   "cell_type": "markdown",
   "metadata": {},
   "source": [
    "Simulation parameters define number of shots and whether or not modulation of the pulses should be taken into account:"
   ]
  },
  {
   "cell_type": "code",
   "execution_count": null,
   "metadata": {},
   "outputs": [],
   "source": [
    "NBSHOTS = 0  # must be 0 for AnalogQPU\n",
    "# If 0 and local simulations, default internally to 2000\n",
    "MODULATION = False  # Whether or not to use Modulated Sequence in the simulation\n",
    "\n",
    "if not LOCAL_SIMULATIONS and NBSHOTS > 0:\n",
    "    raise ValueError(\"Simulation with AnalogQPU: number of shots must be 0.\")"
   ]
  },
  {
   "cell_type": "markdown",
   "metadata": {},
   "source": [
    "## 1. Introduction "
   ]
  },
  {
   "cell_type": "markdown",
   "metadata": {},
   "source": [
    "In this tutorial, we illustrate how to solve a Quadratic Unconstrained Binary Optimization (QUBO) instance using an ensemble of Rydberg atoms in analog mode.\n",
    "\n",
    "QUBO has been extensively studied [Glover, et al., 2018](https://arxiv.org/pdf/1811.11538.pdf) and is used to model and solve numerous categories of optimization problems including important instances of network flows, scheduling, max-cut, max-clique, vertex cover and other graph and management science problems, integrating them into a unified modeling framework.\n",
    "\n",
    "Mathematically, a QUBO instance consists of a symmetric matrix $Q$ of size $(N \\times N)$, and the optimization problem associated with it is to find the bitstring $z=(z_1, \\dots, z_N) \\in \\{0, 1 \\}^N$ that minimizes the quantity\n",
    "$$f(z) = z^{T}Qz$$ "
   ]
  },
  {
   "cell_type": "markdown",
   "metadata": {},
   "source": [
    "Suppose we are given the following QUBO matrix $Q$:"
   ]
  },
  {
   "cell_type": "code",
   "execution_count": null,
   "metadata": {},
   "outputs": [],
   "source": [
    "Q = np.array(\n",
    "    [\n",
    "        [-10.0, 19.7365809, 19.7365809, 5.42015853, 5.42015853],\n",
    "        [19.7365809, -10.0, 20.67626392, 0.17675796, 0.85604541],\n",
    "        [19.7365809, 20.67626392, -10.0, 0.85604541, 0.17675796],\n",
    "        [5.42015853, 0.17675796, 0.85604541, -10.0, 0.32306662],\n",
    "        [5.42015853, 0.85604541, 0.17675796, 0.32306662, -10.0],\n",
    "    ]\n",
    ")"
   ]
  },
  {
   "cell_type": "markdown",
   "metadata": {},
   "source": [
    "In this tutorial, we will demonstrate how this QUBO instance can be mapped and solved using neutral atoms. For reasons that will become apparent further along, this QUBO instance is particularly amenable to embedding on a neutral-atom device since:\n",
    "\n",
    "1. All the off-diagonal terms are positive.\n",
    "2. The diagonal terms are all equal."
   ]
  },
  {
   "cell_type": "markdown",
   "metadata": {},
   "source": [
    "Furthermore, because the QUBO is small, we can classically check all solutions and mark the optimal ones. This will help us later in the tutorial to visualize the quality of our quantum approach."
   ]
  },
  {
   "cell_type": "code",
   "execution_count": null,
   "metadata": {},
   "outputs": [],
   "source": [
    "bitstrings = [np.binary_repr(i, len(Q)) for i in range(2 ** len(Q))]\n",
    "costs = []\n",
    "# this takes exponential time with the dimension of the QUBO\n",
    "for b in bitstrings:\n",
    "    z = np.array(list(b), dtype=int)\n",
    "    cost = z.T @ Q @ z\n",
    "    costs.append(cost)\n",
    "zipped = zip(bitstrings, costs)\n",
    "sort_zipped = sorted(zipped, key=lambda x: x[1])\n",
    "print(sort_zipped[:3])"
   ]
  },
  {
   "cell_type": "markdown",
   "metadata": {},
   "source": [
    "This QUBO admits `01011` and `00111` as optimal solutions."
   ]
  },
  {
   "cell_type": "markdown",
   "metadata": {},
   "source": [
    "### Embedding a QUBO onto an atomic register"
   ]
  },
  {
   "cell_type": "markdown",
   "metadata": {},
   "source": [
    "We now illustrate how to use Pulser to embbed the QUBO matrix $Q$ on a neutral-atom device.\n",
    "\n",
    "The key idea is to encode the off-diagonal terms of $Q$ by using the Rydberg interaction between atoms. Recalling that the interaction between two atoms is given by \n",
    "$$\n",
    "U_{ij}=C_6/r_{ij}^6,\n",
    "$$\n",
    "we note that \n",
    "\n",
    "1. The term is strictly positive, which is why it matters that our off-diagonal terms are too.\n",
    "2. Its magnitude depends on the pairwise distance between atoms $i$ and $j$, $r_{ij}$. \n",
    "\n",
    "As such, we attempt a simple minimization procedure to find the optimal positions of the atoms in the Register that replicate best the off-diagonal terms of $Q$:"
   ]
  },
  {
   "cell_type": "code",
   "execution_count": null,
   "metadata": {},
   "outputs": [],
   "source": [
    "def evaluate_mapping(new_coords, *args):\n",
    "    \"\"\"Cost function to minimize. Ideally, the pairwise distances are conserved.\"\"\"\n",
    "    Q, shape = args\n",
    "    new_coords = np.reshape(new_coords, shape)\n",
    "    new_Q = squareform(FRESNEL_DEVICE.interaction_coeff / pdist(new_coords) ** 6)\n",
    "    return np.linalg.norm(new_Q - Q)"
   ]
  },
  {
   "cell_type": "code",
   "execution_count": null,
   "metadata": {},
   "outputs": [],
   "source": [
    "shape = (len(Q), 2)\n",
    "costs = []\n",
    "np.random.seed(0)\n",
    "x0 = np.random.random(shape).flatten()\n",
    "res = minimize(\n",
    "    evaluate_mapping,\n",
    "    x0,\n",
    "    args=(Q, shape),\n",
    "    method=\"Nelder-Mead\",\n",
    "    tol=1e-6,\n",
    "    options={\"maxiter\": 200000, \"maxfev\": None},\n",
    ")\n",
    "coords = np.reshape(res.x, (len(Q), 2))"
   ]
  },
  {
   "cell_type": "markdown",
   "metadata": {},
   "source": [
    "We can then plot the obtained coordinates in a Register using:"
   ]
  },
  {
   "cell_type": "code",
   "execution_count": null,
   "metadata": {},
   "outputs": [],
   "source": [
    "qubits = dict(enumerate(coords))\n",
    "reg = Register(qubits)\n",
    "reg.draw(\n",
    "    blockade_radius=FRESNEL_DEVICE.rydberg_blockade_radius(1.0),\n",
    "    draw_graph=False,\n",
    "    draw_half_radius=True,\n",
    ")"
   ]
  },
  {
   "cell_type": "markdown",
   "metadata": {},
   "source": [
    "In this case, this simple procedure was enough to give a good and valid embedding but it will not always be so. For QUBO instances that are not as easy to embbed as this one, more complex embedding strategies are required."
   ]
  },
  {
   "cell_type": "markdown",
   "metadata": {},
   "source": [
    "## 2. Building the quantum algorithm "
   ]
  },
  {
   "cell_type": "markdown",
   "metadata": {},
   "source": [
    "Now that the QUBO $Q$ is encoded in the Register, we can peprare the following Ising Hamiltonian $H_Q$:\n",
    "\n",
    "$$ H_Q= \\sum_{i=1}^N \\frac{\\hbar\\Omega}{2} \\sigma_i^x - \\sum_{i=1}^N \\frac{\\hbar \\delta}{2} \\sigma_i^z+\\sum_{j \\lt i}\\frac{C_6}{|\\textbf{r}_i-\\textbf{r}_j|^{6}} n_i n_j. $$\n",
    "\n",
    "In the case where our mapping of the atoms is perfect, the last sum replicates exactly the off-diagonal terms of $Q$. Additionally, since the diagonal terms are all the same, we can use a Rydberg global beam with an approriate detuning $\\delta$ (otherwise, some kind of local addressability capabilities would be necessary).\n",
    "\n",
    "As such, the next step is to prepare the ground-state of $H_Q$ to output the optimal bitstrings. Let's investigate this using the Quantum Adiabatic Algorithm (QAA) that have been introduced to prepare ground-states of Hamiltonians."
   ]
  },
  {
   "cell_type": "markdown",
   "metadata": {},
   "source": [
    "## Quantum Adiabatic Algorithm"
   ]
  },
  {
   "cell_type": "markdown",
   "metadata": {},
   "source": [
    "The idea behind the adiabatic algorithm (see [Albash, Lidar, 2018](https://arxiv.org/pdf/1611.04471.pdf)) is to slowly evolve the system from an easy-to-prepare ground-state to the ground-state of $H_Q$. If done slowly enough, the system of atoms stays in the instantaneous ground-state.\n",
    "\n",
    "In our case, we continuously vary the parameters $\\Omega(t), \\delta(t)$ in time, starting with $\\Omega(0)=0, \\delta(0)<0$ and ending with $\\Omega(0)=0, \\delta>0$. The ground-state of $H(0)$ corresponds to the initial state $|00000\\rangle$ and the ground-state of $H(t_f)$ corresponds to the ground-state of $H_Q$."
   ]
  },
  {
   "cell_type": "markdown",
   "metadata": {},
   "source": [
    "To ensure that we are not exciting the system to states that are too excited, we keep $\\Omega \\in [0, \\Omega_{\\text{max}}]$, and choose $\\Omega_{\\text{max}}$ as the median of the values of Q to ensures that the adiabatic path is efficient."
   ]
  },
  {
   "cell_type": "code",
   "execution_count": null,
   "metadata": {},
   "outputs": [],
   "source": [
    "# We choose a median value between the min and the max\n",
    "Omega = np.median(Q[Q > 0].flatten())\n",
    "delta_0 = -5  # just has to be negative\n",
    "delta_f = -delta_0  # just has to be positive\n",
    "T = 4000  # time in ns, we choose a time long enough to ensure the propagation of information in the system"
   ]
  },
  {
   "cell_type": "code",
   "execution_count": null,
   "metadata": {},
   "outputs": [],
   "source": [
    "adiabatic_pulse = Pulse(\n",
    "    InterpolatedWaveform(T, [1e-9, Omega, 1e-9]),\n",
    "    InterpolatedWaveform(T, [delta_0, 0, delta_f]),\n",
    "    0,\n",
    ")\n",
    "seq = Sequence(reg, FRESNEL_DEVICE)\n",
    "seq.declare_channel(\"ising\", \"rydberg_global\")\n",
    "seq.add(adiabatic_pulse, \"ising\")\n",
    "seq.draw()"
   ]
  },
  {
   "cell_type": "markdown",
   "metadata": {},
   "source": [
    "Let's now submit the `Sequence` to the `MyQLMBackend`. First, let's convert it into a `MyQLM Job`:"
   ]
  },
  {
   "cell_type": "code",
   "execution_count": null,
   "metadata": {},
   "outputs": [],
   "source": [
    "job = IsingAQPU.convert_sequence_to_job(seq, nbshots=NBSHOTS, modulation=MODULATION)"
   ]
  },
  {
   "cell_type": "markdown",
   "metadata": {},
   "source": [
    "And submit it to a MyQLM emulator:"
   ]
  },
  {
   "cell_type": "code",
   "execution_count": null,
   "metadata": {},
   "outputs": [],
   "source": [
    "MyQLMPulserSimBackend = IsingAQPU.from_sequence(seq, qpu=None)\n",
    "MYQLM_BACKEND = MyQLMPulserSimBackend if LOCAL_SIMULATIONS else AnalogQPU()"
   ]
  },
  {
   "cell_type": "code",
   "execution_count": null,
   "metadata": {},
   "outputs": [],
   "source": [
    "results = MYQLM_BACKEND.submit(job)"
   ]
  },
  {
   "cell_type": "markdown",
   "metadata": {},
   "source": [
    "Let's now plot these results:"
   ]
  },
  {
   "cell_type": "code",
   "execution_count": null,
   "metadata": {},
   "outputs": [],
   "source": [
    "def get_samples_from_result(result: Result):\n",
    "    \"\"\"Converting the MyQLM Results into Pulser Samples\"\"\"\n",
    "    samples = {}\n",
    "    n_qubits = len(qubits)\n",
    "    for sample in result.raw_data:\n",
    "        if len(sample.state.bitstring) > n_qubits:\n",
    "            raise ValueError(\n",
    "                f\"State {sample.state} is incompatible with number of qubits\"\n",
    "                f\" declared {n_qubits}.\"\n",
    "            )\n",
    "        counts = sample.probability\n",
    "        samples[sample.state.bitstring.zfill(n_qubits)] = counts\n",
    "    return samples\n",
    "\n",
    "\n",
    "def plot_distribution(result: Result):\n",
    "    C = get_samples_from_result(result)\n",
    "    C = dict(sorted(C.items(), key=lambda item: item[1], reverse=True))\n",
    "    indexes = [\"01011\", \"00111\"]  # QUBO solutions\n",
    "    color_dict = {key: \"r\" if key in indexes else \"g\" for key in C}\n",
    "    plt.figure(figsize=(12, 6))\n",
    "    plt.xlabel(\"bitstrings\")\n",
    "    plt.ylabel(\"rates\")\n",
    "    plt.bar(C.keys(), C.values(), width=0.5, color=color_dict.values())\n",
    "    plt.xticks(rotation=\"vertical\")\n",
    "    plt.show()"
   ]
  },
  {
   "cell_type": "code",
   "execution_count": null,
   "metadata": {},
   "outputs": [],
   "source": [
    "plot_distribution(results)"
   ]
  },
  {
   "cell_type": "markdown",
   "metadata": {},
   "source": [
    "The two best solutions are highlighted in red. See how fast and performant this method is! In only a few micro-seconds, we find an excellent solution."
   ]
  },
  {
   "cell_type": "markdown",
   "metadata": {},
   "source": [
    "## 3. Optimization "
   ]
  },
  {
   "cell_type": "markdown",
   "metadata": {},
   "source": [
    "We estimate the cost of a sampled state vector by making an average over the samples. This is done by taking the corresponding bitstring ${\\bf z}=(z_1, \\ldots, z_N)$ and calculating\n",
    "\n",
    "$$\n",
    "C({\\bf z}) = {\\bf z}^\\top \\cdot Q \\cdot {\\bf z}\n",
    "$$\n",
    "\n",
    "Determining the cost of a given bitstring takes polynomial time. The average estimate is then used in the classical loop to optimize the variational parameters $\\tau$ and $t$."
   ]
  },
  {
   "cell_type": "markdown",
   "metadata": {},
   "source": [
    "### How does the time evolution affect the quality of the results?"
   ]
  },
  {
   "cell_type": "code",
   "execution_count": null,
   "metadata": {},
   "outputs": [],
   "source": [
    "def get_cost_colouring(bitstring, Q):\n",
    "    z = np.array(list(bitstring), dtype=int)\n",
    "    cost = z.T @ Q @ z\n",
    "    return cost\n",
    "\n",
    "\n",
    "def get_cost(result, Q):\n",
    "    counter = get_samples_from_result(result)\n",
    "    cost = sum(counter[key] * get_cost_colouring(key, Q) for key in counter)\n",
    "    return cost / sum(counter.values())  # Divide by total samples"
   ]
  },
  {
   "cell_type": "code",
   "execution_count": null,
   "metadata": {},
   "outputs": [],
   "source": [
    "cost = []\n",
    "for T in 1000 * np.linspace(1, 10, 10):\n",
    "    seq = Sequence(reg, FRESNEL_DEVICE)\n",
    "    seq.declare_channel(\"ising\", \"rydberg_global\")\n",
    "    adiabatic_pulse = Pulse(\n",
    "        InterpolatedWaveform(T, [1e-9, Omega, 1e-9]),\n",
    "        InterpolatedWaveform(T, [delta_0, 0, delta_f]),\n",
    "        0,\n",
    "    )\n",
    "    seq.add(adiabatic_pulse, \"ising\")\n",
    "    job = IsingAQPU.convert_sequence_to_job(seq, nbshots=NBSHOTS, modulation=MODULATION)\n",
    "    results = MYQLM_BACKEND.submit(job)\n",
    "    cost.append(get_cost(results, Q) / 3)"
   ]
  },
  {
   "cell_type": "code",
   "execution_count": null,
   "metadata": {},
   "outputs": [],
   "source": [
    "plt.figure(figsize=(12, 6))\n",
    "plt.plot(range(1, 11), np.array(cost), \"--o\")\n",
    "plt.xlabel(\"total time evolution (µs)\", fontsize=14)\n",
    "plt.ylabel(\"cost\", fontsize=14)\n",
    "plt.show()"
   ]
  }
 ],
 "metadata": {
  "celltoolbar": "Tags",
  "interpreter": {
   "hash": "949777d72b0d2535278d3dc13498b2535136f6dfe0678499012e853ee9abcab1"
  },
  "kernelspec": {
   "display_name": "Python 3 (ipykernel)",
   "language": "python",
   "name": "python3"
  },
  "language_info": {
   "codemirror_mode": {
    "name": "ipython",
    "version": 3
   },
   "file_extension": ".py",
   "mimetype": "text/x-python",
   "name": "python",
   "nbconvert_exporter": "python",
   "pygments_lexer": "ipython3",
   "version": "3.10.14"
  },
  "vscode": {
   "interpreter": {
    "hash": "e088768f7ff7b4294439f8ed10f7eed9e3b885124bc20d9d06cc2a37b1883330"
   }
  }
 },
 "nbformat": 4,
 "nbformat_minor": 4
}
