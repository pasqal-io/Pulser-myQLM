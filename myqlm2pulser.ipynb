{
 "cells": [
  {
   "attachments": {},
   "cell_type": "markdown",
   "metadata": {},
   "source": [
    "# Solving time-dependent Ising Model using Pulser"
   ]
  },
  {
   "cell_type": "code",
   "execution_count": null,
   "metadata": {},
   "outputs": [],
   "source": [
    "import cmath\n",
    "import numpy as np\n",
    "import networkx as nx\n",
    "from scipy.constants import hbar\n",
    "from collections import Counter\n",
    "from typing import Union, Literal\n",
    "from networkx.drawing.nx_agraph import graphviz_layout\n",
    "from qat.core import Variable, Schedule, Observable, Term, Result\n",
    "from qat.core.qpu import QPUHandler\n",
    "from qat.core.variables import ArithExpression, cos, sin, heaviside\n"
   ]
  },
  {
   "attachments": {},
   "cell_type": "markdown",
   "metadata": {},
   "source": [
    "## Defining Pasqal's QPU"
   ]
  },
  {
   "cell_type": "code",
   "execution_count": null,
   "metadata": {},
   "outputs": [],
   "source": [
    "from pulser import Pulse, Sequence, Register\n",
    "from pulser_simulation import Simulation\n",
    "from pulser.waveforms import CustomWaveform, Waveform\n",
    "from pulser.devices import Device, VirtualDevice, interaction_coefficients\n",
    "from pulser.devices import MockDevice\n",
    "from pulser.devices import Chadoq2\n",
    "from pulserAQPU import FresnelAQPU, PasqalAQPU\n",
    "from pprint import pprint"
   ]
  },
  {
   "cell_type": "code",
   "execution_count": null,
   "metadata": {},
   "outputs": [],
   "source": [
    "# Create a device having a rydberg global channel\n",
    "device = MockDevice\n",
    "# Create a square 2x2 register with side 4um \n",
    "register = Register.square(2, 4, None)\n",
    "qpu = FresnelAQPU(device, register)"
   ]
  },
  {
   "cell_type": "code",
   "execution_count": null,
   "metadata": {},
   "outputs": [],
   "source": [
    "# You can see the register used by the qpu\n",
    "qpu.register.draw()"
   ]
  },
  {
   "cell_type": "code",
   "execution_count": null,
   "metadata": {},
   "outputs": [],
   "source": [
    "# Check qpu properties\n",
    "print(qpu.distances)  # symetric matrix, for each qubit two qubits are at 4um distance and one at 4 * sqrt(2) um \n",
    "print(qpu.interactions)  # symetric matrix, C_6/R^6"
   ]
  },
  {
   "attachments": {},
   "cell_type": "markdown",
   "metadata": {},
   "source": [
    "## Defining an Ising Hamiltonian on MyQLM"
   ]
  },
  {
   "attachments": {},
   "cell_type": "markdown",
   "metadata": {},
   "source": [
    "On Pulser we can solve problems of shape \n",
    "$$ H = \\hbar\\sum_i \\frac{\\Omega(t)}{2}(\\cos(\\phi) \\sigma_i^x - \\sin(\\phi) \\sigma_i^y) - \\delta(t)n_i + \\frac{1}{2}\\sum_{i\\neq j}U_{ij}n_i n_j$$\n",
    "with $\\sigma_i^x$ the Pauli $X$ operator applied on qubit $i$ and $n_i = \\frac{1-\\sigma_i^z}{2}$ with $\\sigma_i^z$ the Pauli $Z$ operator applied on qubit $i$\n",
    "\n",
    "Let's start by defining the parameters and the Hamiltonian"
   ]
  },
  {
   "cell_type": "code",
   "execution_count": null,
   "metadata": {},
   "outputs": [],
   "source": [
    "nqubits = 4\n",
    "t_variable = Variable(\"t\")  # in ns  \n",
    "u_variable = Variable(\"u\") # parameter\n",
    "omega_t = t_variable  # in rad/us\n",
    "delta_t = 1 - t_variable + u_variable # in rad/us"
   ]
  },
  {
   "cell_type": "code",
   "execution_count": null,
   "metadata": {},
   "outputs": [],
   "source": [
    "# Hamiltonian of a pulse of constant amplitude, zero detuning and phase\n",
    "t1 = 20  # in ns\n",
    "H1 = qpu.ising_hamiltonian(nqubits, 1, 0, 0)\n",
    "print(H1)  # Apply a X gate on each qubit, and ZZ gate whose coefficient is defined from interactions                                         "
   ]
  },
  {
   "cell_type": "code",
   "execution_count": null,
   "metadata": {},
   "outputs": [],
   "source": [
    "# Same hamiltonian with a pi/2 phase\n",
    "t2 = 20  # in ns\n",
    "H2 = qpu.ising_hamiltonian(nqubits, 1, 0, np.pi/2)\n",
    "print(H2)  # Apply a Y gate on each qubit, and ZZ gate whose coefficient is defined from interactions   "
   ]
  },
  {
   "cell_type": "code",
   "execution_count": null,
   "metadata": {},
   "outputs": [],
   "source": [
    "# Hamiltonian with a varying amplitude and detuning\n",
    "t0 = 10  # in ns\n",
    "H0 = qpu.ising_hamiltonian(nqubits, omega_t, delta_t, 0)\n",
    "print(H0)  # Apply a Y gate on each qubit, and ZZ gate whose coefficient is defined from interactions   "
   ]
  },
  {
   "attachments": {},
   "cell_type": "markdown",
   "metadata": {},
   "source": [
    "The Hamiltonian is implemented as a `Schedule` object. You also have to define the duration of the evolution"
   ]
  },
  {
   "cell_type": "code",
   "execution_count": null,
   "metadata": {},
   "outputs": [],
   "source": [
    "# The drive coefficient should only be 1 or product of heaviside function\n",
    "# Otherwise the interaction terms will no longer correspond with the register\n",
    "schedule0 = Schedule(drive=[(1, H0)],\n",
    "                    tmax=t0)\n",
    "schedule1 = Schedule(drive=[(1, H1)],\n",
    "                    tmax=t1)\n",
    "schedule2 = Schedule(drive=[(1, H2)],\n",
    "                    tmax=t2)\n",
    "print(schedule1)"
   ]
  },
  {
   "cell_type": "code",
   "execution_count": null,
   "metadata": {},
   "outputs": [],
   "source": [
    "# the schedules can be stacked to create a pulse sequence\n",
    "schedule = schedule0 | schedule1 | schedule2\n",
    "print(schedule)"
   ]
  },
  {
   "cell_type": "code",
   "execution_count": null,
   "metadata": {},
   "outputs": [],
   "source": [
    "# This schedule could also have been defined as below\n",
    "# Because Schedule sums the input hamiltonian defined in drive\n",
    "schedule_sum = Schedule(\n",
    "    drive=[\n",
    "        (heaviside(t_variable, 0, t0), H0),\n",
    "        (heaviside(t_variable, t0, t1+t0), H1),\n",
    "        (heaviside(t_variable, t1+t0, t1+t0+t2), H2)\n",
    "        ],\n",
    "    tmax = t1+t0+t2\n",
    "    )\n",
    "print(schedule_sum)"
   ]
  },
  {
   "attachments": {},
   "cell_type": "markdown",
   "metadata": {},
   "source": [
    "From a schedule object we can build jobs to be submit to the QPU. An initial state can be defined in the job, as well as an Hamiltonian to be measured at the output."
   ]
  },
  {
   "cell_type": "code",
   "execution_count": null,
   "metadata": {},
   "outputs": [],
   "source": [
    "# To sample the final state in the computational basis\n",
    "job0 = schedule.to_job()\n",
    "job0_sum = schedule_sum.to_job()\n",
    "\n",
    "# To evaluate some observable at the end of the computation\n",
    "H_target = Observable(nqubits, pauli_terms=[Term(1, \"XX\", [0, 1])])\n",
    "jobobs = schedule.to_job(observable=H_target)\n",
    "\n",
    "# Starting from |++++> state\n",
    "job1 = schedule.to_job(psi_0='++++')\n",
    "\n",
    "# Starting from a random initial state (simulator only)\n",
    "vec = np.random.random(2**nqubits)\n",
    "vec /= np.linalg.norm(vec)\n",
    "job2 = schedule.to_job(psi_0=vec)"
   ]
  },
  {
   "attachments": {},
   "cell_type": "markdown",
   "metadata": {},
   "source": [
    "Run the jobs on the qpu"
   ]
  },
  {
   "cell_type": "code",
   "execution_count": null,
   "metadata": {},
   "outputs": [],
   "source": [
    "myqlmResult = qpu.submit_job(job0(u=0), toprint=True, todraw=True, asdict=False)"
   ]
  },
  {
   "cell_type": "code",
   "execution_count": null,
   "metadata": {},
   "outputs": [],
   "source": [
    "myqlmResult.raw_data"
   ]
  },
  {
   "cell_type": "code",
   "execution_count": null,
   "metadata": {},
   "outputs": [],
   "source": [
    "# Count result:\n",
    "dictResult = qpu.submit_job(job0(u=0), toprint=True, todraw=True, asdict=True)"
   ]
  },
  {
   "cell_type": "code",
   "execution_count": null,
   "metadata": {},
   "outputs": [],
   "source": [
    "dictResult"
   ]
  }
 ],
 "metadata": {
  "kernelspec": {
   "display_name": "pulserenv1",
   "language": "python",
   "name": "python3"
  },
  "language_info": {
   "codemirror_mode": {
    "name": "ipython",
    "version": 3
   },
   "file_extension": ".py",
   "mimetype": "text/x-python",
   "name": "python",
   "nbconvert_exporter": "python",
   "pygments_lexer": "ipython3",
   "version": "3.8.15"
  },
  "orig_nbformat": 4,
  "vscode": {
   "interpreter": {
    "hash": "41979a0fb5cbf929bbdce3e266bd19daa100ce7e43112a03f1c4a3dad7e9d527"
   }
  }
 },
 "nbformat": 4,
 "nbformat_minor": 2
}
