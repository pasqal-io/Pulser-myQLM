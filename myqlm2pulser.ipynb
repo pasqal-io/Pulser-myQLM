{
 "cells": [
  {
   "attachments": {},
   "cell_type": "markdown",
   "metadata": {},
   "source": [
    "# Solving time-dependent Ising Model using Pulser"
   ]
  },
  {
   "cell_type": "code",
   "execution_count": null,
   "metadata": {},
   "outputs": [],
   "source": [
    "import cmath\n",
    "import numpy as np\n",
    "import networkx as nx\n",
    "from scipy.constants import hbar\n",
    "from collections import Counter\n",
    "from typing import Union, Literal\n",
    "from networkx.drawing.nx_agraph import graphviz_layout\n",
    "from qat.core import Variable, Schedule, Observable, Term, Result\n",
    "from qat.core.qpu import QPUHandler\n",
    "from qat.core.variables import ArithExpression, angle, cos, sin, real, imag, sqrt\n",
    "\n"
   ]
  },
  {
   "attachments": {},
   "cell_type": "markdown",
   "metadata": {},
   "source": [
    "## Defining an Ising Hamiltonian on MyQLM"
   ]
  },
  {
   "attachments": {},
   "cell_type": "markdown",
   "metadata": {},
   "source": [
    "On Pulser we can solve problems of shape \n",
    "$$ H = \\hbar\\sum_i \\frac{\\Omega(t)}{2} \\sigma_i^x - \\delta(t)n_i + \\frac{1}{2}\\sum_{i\\neq j}U_{ij}n_i n_j$$\n",
    "with $\\sigma_i^x$ the Pauli $X$ operator applied on qubit $i$ and $n_i = \\frac{1-\\sigma_i^z}{2}$ with $\\sigma_i^z$ the Pauli $Z$ operator applied on qubit $i$\n",
    "\n",
    "Let's start by defining the parameters and the Hamiltonian"
   ]
  },
  {
   "cell_type": "code",
   "execution_count": null,
   "metadata": {},
   "outputs": [],
   "source": [
    "nqubits = 4\n",
    "tmax = 23.0\n",
    "t_variable = Variable(\"t\")\n",
    "u_variable = Variable(\"u\")\n",
    "# Omega_t = 1 - t_variable\n",
    "Omega_t = 1\n",
    "delta_t = u_variable\n",
    "U_matrix = [[0, 1, 0, 0],\n",
    "            [1, 0, 1, 0],\n",
    "            [0, 1, 0, 1],\n",
    "            [0, 0, 1, 0]]"
   ]
  },
  {
   "cell_type": "code",
   "execution_count": null,
   "metadata": {},
   "outputs": [],
   "source": [
    "hamiltonian = 0\n",
    "for i in range(nqubits):\n",
    "    hamiltonian += Omega_t / 2 * Observable(nqubits, pauli_terms=[Term(1, 'X', [i])])\n",
    "    hamiltonian -= delta_t / 4 * Observable(nqubits, pauli_terms=[Term(1, 'I', [i]),\n",
    "                                                                      Term(-1, 'Z', [i])])\n",
    "    for j in range(i):\n",
    "            hamiltonian += U_matrix[i][j] / 4 * Observable(nqubits, pauli_terms=[Term(1, 'II', [i, j]), \n",
    "                                                                                 Term(-1, 'IZ', [i, j]),\n",
    "                                                                                 Term(-1, 'ZI', [i, j]),\n",
    "                                                                                 Term(1, 'ZZ', [i, j])]) \n",
    "                                                 "
   ]
  },
  {
   "attachments": {},
   "cell_type": "markdown",
   "metadata": {},
   "source": [
    "The Hamiltonian is implemented as a `Schedule` object. You also have to define the duration of the evolution"
   ]
  },
  {
   "cell_type": "code",
   "execution_count": null,
   "metadata": {},
   "outputs": [],
   "source": [
    "schedule = Schedule(drive=hamiltonian,\n",
    "                    tmax=tmax)\n",
    "\n",
    "print(schedule)"
   ]
  },
  {
   "attachments": {},
   "cell_type": "markdown",
   "metadata": {},
   "source": [
    "From a schedule object we can build jobs to be submit to the QPU. An initial state can be defined in the job, as well as an Hamiltonian to be measured at the output."
   ]
  },
  {
   "cell_type": "code",
   "execution_count": null,
   "metadata": {},
   "outputs": [],
   "source": [
    "# To simply sample the final state in the computational basis\n",
    "job0 = schedule.to_job()\n",
    "\n",
    "# To evaluate some observable at the end of the computation\n",
    "H_target = Observable(nqubits, pauli_terms=[Term(1, \"XX\", [0, 1])])\n",
    "jobobs = schedule.to_job(observable=H_target)\n",
    "\n",
    "# Starting from |++++> state\n",
    "job1 = schedule.to_job(psi_0='++++')\n",
    "\n",
    "# Starting from |+1+1> state\n",
    "job2 = schedule.to_job(psi_0='+1+1')\n",
    "\n",
    "# Starting from a random initial state (simulator only)\n",
    "vec = np.random.random(2**nqubits)\n",
    "vec /= np.linalg.norm(vec)\n",
    "job3 = schedule.to_job(psi_0=vec)"
   ]
  },
  {
   "attachments": {},
   "cell_type": "markdown",
   "metadata": {},
   "source": [
    "## Defining Pasqal's QPU"
   ]
  },
  {
   "cell_type": "code",
   "execution_count": null,
   "metadata": {},
   "outputs": [],
   "source": [
    "from pulser import Pulse, Sequence, Register\n",
    "from pulser_simulation import Simulation\n",
    "from pulser.waveforms import CustomWaveform, Waveform\n",
    "from pulser.devices import Device, VirtualDevice, interaction_coefficients\n",
    "from pulser.devices import MockDevice\n",
    "from pulserAQPU import FresnelAQPU"
   ]
  },
  {
   "cell_type": "code",
   "execution_count": null,
   "metadata": {},
   "outputs": [],
   "source": []
  },
  {
   "cell_type": "code",
   "execution_count": null,
   "metadata": {},
   "outputs": [],
   "source": [
    "qpu = FresnelAQPU()"
   ]
  },
  {
   "cell_type": "code",
   "execution_count": null,
   "metadata": {},
   "outputs": [],
   "source": [
    "qpu.submit_job(job0(u=1))"
   ]
  }
 ],
 "metadata": {
  "kernelspec": {
   "display_name": "pulserenv1",
   "language": "python",
   "name": "python3"
  },
  "language_info": {
   "codemirror_mode": {
    "name": "ipython",
    "version": 3
   },
   "file_extension": ".py",
   "mimetype": "text/x-python",
   "name": "python",
   "nbconvert_exporter": "python",
   "pygments_lexer": "ipython3",
   "version": "3.8.15"
  },
  "orig_nbformat": 4,
  "vscode": {
   "interpreter": {
    "hash": "41979a0fb5cbf929bbdce3e266bd19daa100ce7e43112a03f1c4a3dad7e9d527"
   }
  }
 },
 "nbformat": 4,
 "nbformat_minor": 2
}
